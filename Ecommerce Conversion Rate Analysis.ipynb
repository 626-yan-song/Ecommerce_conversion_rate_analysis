{
 "cells": [
  {
   "cell_type": "code",
   "execution_count": 1,
   "metadata": {},
   "outputs": [],
   "source": [
    "import pandas as pd\n",
    "import numpy as np\n",
    "\n",
    "import matplotlib.pyplot as plt\n",
    "import seaborn as sns\n",
    "%matplotlib inline\n",
    "\n",
    "import warnings\n",
    "warnings.filterwarnings(\"ignore\")\n",
    "\n",
    "sns.set_style(\"whitegrid\")\n",
    "color = sns.color_palette('Set3')"
   ]
  },
  {
   "cell_type": "code",
   "execution_count": 2,
   "metadata": {},
   "outputs": [],
   "source": [
    "rev = pd.read_csv('rev30_weekly.csv')"
   ]
  },
  {
   "cell_type": "code",
   "execution_count": 7,
   "metadata": {},
   "outputs": [
    {
     "data": {
      "text/html": [
       "<div>\n",
       "<style scoped>\n",
       "    .dataframe tbody tr th:only-of-type {\n",
       "        vertical-align: middle;\n",
       "    }\n",
       "\n",
       "    .dataframe tbody tr th {\n",
       "        vertical-align: top;\n",
       "    }\n",
       "\n",
       "    .dataframe thead th {\n",
       "        text-align: right;\n",
       "    }\n",
       "</style>\n",
       "<table border=\"1\" class=\"dataframe\">\n",
       "  <thead>\n",
       "    <tr style=\"text-align: right;\">\n",
       "      <th></th>\n",
       "      <th>pcode</th>\n",
       "      <th>Week</th>\n",
       "      <th>new_qty_pc</th>\n",
       "      <th>new_style_pc</th>\n",
       "      <th>prod_br</th>\n",
       "      <th>prod_dp</th>\n",
       "      <th>sval_pc</th>\n",
       "      <th>sval_pvw_pc</th>\n",
       "      <th>prod_br_pc</th>\n",
       "      <th>unit_dp_pc</th>\n",
       "      <th>clicks</th>\n",
       "      <th>impressions</th>\n",
       "      <th>avg_pos</th>\n",
       "      <th>transactions</th>\n",
       "      <th>CTR</th>\n",
       "      <th>econv_rate</th>\n",
       "    </tr>\n",
       "  </thead>\n",
       "  <tbody>\n",
       "    <tr>\n",
       "      <th>0</th>\n",
       "      <td>ACAC</td>\n",
       "      <td>201423</td>\n",
       "      <td>0.280079</td>\n",
       "      <td>0.105263</td>\n",
       "      <td>70.571429</td>\n",
       "      <td>1300.142857</td>\n",
       "      <td>0.778750</td>\n",
       "      <td>0.838993</td>\n",
       "      <td>0.249546</td>\n",
       "      <td>1.030857</td>\n",
       "      <td>978</td>\n",
       "      <td>10170</td>\n",
       "      <td>1.3</td>\n",
       "      <td>1</td>\n",
       "      <td>0.096165</td>\n",
       "      <td>0.001022</td>\n",
       "    </tr>\n",
       "    <tr>\n",
       "      <th>1</th>\n",
       "      <td>ACAC</td>\n",
       "      <td>201424</td>\n",
       "      <td>0.066161</td>\n",
       "      <td>0.021912</td>\n",
       "      <td>71.714286</td>\n",
       "      <td>1187.571429</td>\n",
       "      <td>0.750463</td>\n",
       "      <td>0.751063</td>\n",
       "      <td>0.269781</td>\n",
       "      <td>0.855018</td>\n",
       "      <td>1209</td>\n",
       "      <td>13994</td>\n",
       "      <td>1.8</td>\n",
       "      <td>9</td>\n",
       "      <td>0.086394</td>\n",
       "      <td>0.007444</td>\n",
       "    </tr>\n",
       "    <tr>\n",
       "      <th>2</th>\n",
       "      <td>ACAC</td>\n",
       "      <td>201425</td>\n",
       "      <td>0.000000</td>\n",
       "      <td>0.000000</td>\n",
       "      <td>70.285714</td>\n",
       "      <td>1119.285714</td>\n",
       "      <td>0.775713</td>\n",
       "      <td>0.800136</td>\n",
       "      <td>0.244487</td>\n",
       "      <td>0.748354</td>\n",
       "      <td>1315</td>\n",
       "      <td>15764</td>\n",
       "      <td>1.7</td>\n",
       "      <td>8</td>\n",
       "      <td>0.083418</td>\n",
       "      <td>0.006084</td>\n",
       "    </tr>\n",
       "    <tr>\n",
       "      <th>3</th>\n",
       "      <td>ACAC</td>\n",
       "      <td>201426</td>\n",
       "      <td>0.328882</td>\n",
       "      <td>0.197487</td>\n",
       "      <td>79.571429</td>\n",
       "      <td>1572.428571</td>\n",
       "      <td>0.791148</td>\n",
       "      <td>0.805672</td>\n",
       "      <td>0.408901</td>\n",
       "      <td>1.456175</td>\n",
       "      <td>1394</td>\n",
       "      <td>14967</td>\n",
       "      <td>1.7</td>\n",
       "      <td>14</td>\n",
       "      <td>0.093138</td>\n",
       "      <td>0.010043</td>\n",
       "    </tr>\n",
       "    <tr>\n",
       "      <th>4</th>\n",
       "      <td>ACAC</td>\n",
       "      <td>201427</td>\n",
       "      <td>0.413114</td>\n",
       "      <td>0.273292</td>\n",
       "      <td>80.500000</td>\n",
       "      <td>1736.000000</td>\n",
       "      <td>0.785493</td>\n",
       "      <td>0.854480</td>\n",
       "      <td>0.425342</td>\n",
       "      <td>1.711678</td>\n",
       "      <td>1127</td>\n",
       "      <td>12539</td>\n",
       "      <td>1.7</td>\n",
       "      <td>10</td>\n",
       "      <td>0.089880</td>\n",
       "      <td>0.008873</td>\n",
       "    </tr>\n",
       "    <tr>\n",
       "      <th>5</th>\n",
       "      <td>ACAC</td>\n",
       "      <td>201428</td>\n",
       "      <td>0.264932</td>\n",
       "      <td>0.176157</td>\n",
       "      <td>80.285714</td>\n",
       "      <td>1581.000000</td>\n",
       "      <td>0.798959</td>\n",
       "      <td>0.826425</td>\n",
       "      <td>0.421548</td>\n",
       "      <td>1.469564</td>\n",
       "      <td>1223</td>\n",
       "      <td>13952</td>\n",
       "      <td>1.9</td>\n",
       "      <td>18</td>\n",
       "      <td>0.087658</td>\n",
       "      <td>0.014718</td>\n",
       "    </tr>\n",
       "    <tr>\n",
       "      <th>6</th>\n",
       "      <td>ACAC</td>\n",
       "      <td>201429</td>\n",
       "      <td>0.008270</td>\n",
       "      <td>0.003745</td>\n",
       "      <td>76.285714</td>\n",
       "      <td>1451.000000</td>\n",
       "      <td>0.795342</td>\n",
       "      <td>0.810289</td>\n",
       "      <td>0.350723</td>\n",
       "      <td>1.266500</td>\n",
       "      <td>1286</td>\n",
       "      <td>14021</td>\n",
       "      <td>1.5</td>\n",
       "      <td>19</td>\n",
       "      <td>0.091720</td>\n",
       "      <td>0.014774</td>\n",
       "    </tr>\n",
       "    <tr>\n",
       "      <th>7</th>\n",
       "      <td>ACAC</td>\n",
       "      <td>201430</td>\n",
       "      <td>0.000000</td>\n",
       "      <td>0.000000</td>\n",
       "      <td>76.000000</td>\n",
       "      <td>1380.000000</td>\n",
       "      <td>0.778984</td>\n",
       "      <td>0.784710</td>\n",
       "      <td>0.345664</td>\n",
       "      <td>1.155596</td>\n",
       "      <td>1300</td>\n",
       "      <td>12960</td>\n",
       "      <td>1.4</td>\n",
       "      <td>19</td>\n",
       "      <td>0.100309</td>\n",
       "      <td>0.014615</td>\n",
       "    </tr>\n",
       "    <tr>\n",
       "      <th>8</th>\n",
       "      <td>ACAC</td>\n",
       "      <td>201431</td>\n",
       "      <td>0.000000</td>\n",
       "      <td>0.000000</td>\n",
       "      <td>75.428571</td>\n",
       "      <td>1246.000000</td>\n",
       "      <td>0.750883</td>\n",
       "      <td>0.754587</td>\n",
       "      <td>0.335547</td>\n",
       "      <td>0.946285</td>\n",
       "      <td>1205</td>\n",
       "      <td>12950</td>\n",
       "      <td>1.5</td>\n",
       "      <td>13</td>\n",
       "      <td>0.093050</td>\n",
       "      <td>0.010788</td>\n",
       "    </tr>\n",
       "    <tr>\n",
       "      <th>9</th>\n",
       "      <td>ACAC</td>\n",
       "      <td>201432</td>\n",
       "      <td>0.000000</td>\n",
       "      <td>0.000000</td>\n",
       "      <td>75.714286</td>\n",
       "      <td>1149.857143</td>\n",
       "      <td>0.739573</td>\n",
       "      <td>0.753855</td>\n",
       "      <td>0.340606</td>\n",
       "      <td>0.796107</td>\n",
       "      <td>1207</td>\n",
       "      <td>14641</td>\n",
       "      <td>1.9</td>\n",
       "      <td>6</td>\n",
       "      <td>0.082440</td>\n",
       "      <td>0.004971</td>\n",
       "    </tr>\n",
       "  </tbody>\n",
       "</table>\n",
       "</div>"
      ],
      "text/plain": [
       "  pcode    Week  new_qty_pc  new_style_pc    prod_br      prod_dp   sval_pc  \\\n",
       "0  ACAC  201423    0.280079      0.105263  70.571429  1300.142857  0.778750   \n",
       "1  ACAC  201424    0.066161      0.021912  71.714286  1187.571429  0.750463   \n",
       "2  ACAC  201425    0.000000      0.000000  70.285714  1119.285714  0.775713   \n",
       "3  ACAC  201426    0.328882      0.197487  79.571429  1572.428571  0.791148   \n",
       "4  ACAC  201427    0.413114      0.273292  80.500000  1736.000000  0.785493   \n",
       "5  ACAC  201428    0.264932      0.176157  80.285714  1581.000000  0.798959   \n",
       "6  ACAC  201429    0.008270      0.003745  76.285714  1451.000000  0.795342   \n",
       "7  ACAC  201430    0.000000      0.000000  76.000000  1380.000000  0.778984   \n",
       "8  ACAC  201431    0.000000      0.000000  75.428571  1246.000000  0.750883   \n",
       "9  ACAC  201432    0.000000      0.000000  75.714286  1149.857143  0.739573   \n",
       "\n",
       "   sval_pvw_pc  prod_br_pc  unit_dp_pc  clicks  impressions  avg_pos  \\\n",
       "0     0.838993    0.249546    1.030857     978        10170      1.3   \n",
       "1     0.751063    0.269781    0.855018    1209        13994      1.8   \n",
       "2     0.800136    0.244487    0.748354    1315        15764      1.7   \n",
       "3     0.805672    0.408901    1.456175    1394        14967      1.7   \n",
       "4     0.854480    0.425342    1.711678    1127        12539      1.7   \n",
       "5     0.826425    0.421548    1.469564    1223        13952      1.9   \n",
       "6     0.810289    0.350723    1.266500    1286        14021      1.5   \n",
       "7     0.784710    0.345664    1.155596    1300        12960      1.4   \n",
       "8     0.754587    0.335547    0.946285    1205        12950      1.5   \n",
       "9     0.753855    0.340606    0.796107    1207        14641      1.9   \n",
       "\n",
       "   transactions       CTR  econv_rate  \n",
       "0             1  0.096165    0.001022  \n",
       "1             9  0.086394    0.007444  \n",
       "2             8  0.083418    0.006084  \n",
       "3            14  0.093138    0.010043  \n",
       "4            10  0.089880    0.008873  \n",
       "5            18  0.087658    0.014718  \n",
       "6            19  0.091720    0.014774  \n",
       "7            19  0.100309    0.014615  \n",
       "8            13  0.093050    0.010788  \n",
       "9             6  0.082440    0.004971  "
      ]
     },
     "execution_count": 7,
     "metadata": {},
     "output_type": "execute_result"
    }
   ],
   "source": [
    "rev.head(10)"
   ]
  },
  {
   "cell_type": "code",
   "execution_count": 5,
   "metadata": {},
   "outputs": [
    {
     "name": "stdout",
     "output_type": "stream",
     "text": [
      "<class 'pandas.core.frame.DataFrame'>\n",
      "RangeIndex: 3809 entries, 0 to 3808\n",
      "Data columns (total 16 columns):\n",
      " #   Column        Non-Null Count  Dtype  \n",
      "---  ------        --------------  -----  \n",
      " 0   pcode         3809 non-null   object \n",
      " 1   Week          3809 non-null   int64  \n",
      " 2   new_qty_pc    3809 non-null   float64\n",
      " 3   new_style_pc  3809 non-null   float64\n",
      " 4   prod_br       3809 non-null   float64\n",
      " 5   prod_dp       3809 non-null   float64\n",
      " 6   sval_pc       3779 non-null   float64\n",
      " 7   sval_pvw_pc   3779 non-null   float64\n",
      " 8   prod_br_pc    3809 non-null   float64\n",
      " 9   unit_dp_pc    3809 non-null   float64\n",
      " 10  clicks        3809 non-null   int64  \n",
      " 11  impressions   3809 non-null   int64  \n",
      " 12  avg_pos       3809 non-null   float64\n",
      " 13  transactions  3809 non-null   int64  \n",
      " 14  CTR           3809 non-null   float64\n",
      " 15  econv_rate    3809 non-null   float64\n",
      "dtypes: float64(11), int64(4), object(1)\n",
      "memory usage: 476.2+ KB\n"
     ]
    }
   ],
   "source": [
    "rev.info()"
   ]
  },
  {
   "cell_type": "code",
   "execution_count": 8,
   "metadata": {},
   "outputs": [
    {
     "data": {
      "text/html": [
       "<div>\n",
       "<style scoped>\n",
       "    .dataframe tbody tr th:only-of-type {\n",
       "        vertical-align: middle;\n",
       "    }\n",
       "\n",
       "    .dataframe tbody tr th {\n",
       "        vertical-align: top;\n",
       "    }\n",
       "\n",
       "    .dataframe thead th {\n",
       "        text-align: right;\n",
       "    }\n",
       "</style>\n",
       "<table border=\"1\" class=\"dataframe\">\n",
       "  <thead>\n",
       "    <tr style=\"text-align: right;\">\n",
       "      <th></th>\n",
       "      <th>Week</th>\n",
       "      <th>new_qty_pc</th>\n",
       "      <th>new_style_pc</th>\n",
       "      <th>prod_br</th>\n",
       "      <th>prod_dp</th>\n",
       "      <th>sval_pc</th>\n",
       "      <th>sval_pvw_pc</th>\n",
       "      <th>prod_br_pc</th>\n",
       "      <th>unit_dp_pc</th>\n",
       "      <th>clicks</th>\n",
       "      <th>impressions</th>\n",
       "      <th>avg_pos</th>\n",
       "      <th>transactions</th>\n",
       "      <th>CTR</th>\n",
       "      <th>econv_rate</th>\n",
       "    </tr>\n",
       "  </thead>\n",
       "  <tbody>\n",
       "    <tr>\n",
       "      <th>count</th>\n",
       "      <td>3809.000000</td>\n",
       "      <td>3809.000000</td>\n",
       "      <td>3809.000000</td>\n",
       "      <td>3809.000000</td>\n",
       "      <td>3809.000000</td>\n",
       "      <td>3779.000000</td>\n",
       "      <td>3779.000000</td>\n",
       "      <td>3809.000000</td>\n",
       "      <td>3809.000000</td>\n",
       "      <td>3809.000000</td>\n",
       "      <td>3809.000000</td>\n",
       "      <td>3809.000000</td>\n",
       "      <td>3809.000000</td>\n",
       "      <td>3809.000000</td>\n",
       "      <td>3809.000000</td>\n",
       "    </tr>\n",
       "    <tr>\n",
       "      <th>mean</th>\n",
       "      <td>201439.431872</td>\n",
       "      <td>0.220464</td>\n",
       "      <td>0.108628</td>\n",
       "      <td>138.220358</td>\n",
       "      <td>1808.573091</td>\n",
       "      <td>0.658636</td>\n",
       "      <td>0.717520</td>\n",
       "      <td>0.017484</td>\n",
       "      <td>0.018319</td>\n",
       "      <td>323.221318</td>\n",
       "      <td>9444.318456</td>\n",
       "      <td>2.427671</td>\n",
       "      <td>7.309005</td>\n",
       "      <td>0.040292</td>\n",
       "      <td>0.026398</td>\n",
       "    </tr>\n",
       "    <tr>\n",
       "      <th>std</th>\n",
       "      <td>76.906368</td>\n",
       "      <td>0.163950</td>\n",
       "      <td>0.091194</td>\n",
       "      <td>81.693589</td>\n",
       "      <td>2673.559011</td>\n",
       "      <td>0.093184</td>\n",
       "      <td>0.102575</td>\n",
       "      <td>0.266468</td>\n",
       "      <td>0.492868</td>\n",
       "      <td>331.597011</td>\n",
       "      <td>8821.096582</td>\n",
       "      <td>1.024867</td>\n",
       "      <td>6.911606</td>\n",
       "      <td>0.019158</td>\n",
       "      <td>0.024341</td>\n",
       "    </tr>\n",
       "    <tr>\n",
       "      <th>min</th>\n",
       "      <td>201312.000000</td>\n",
       "      <td>0.000000</td>\n",
       "      <td>0.000000</td>\n",
       "      <td>6.000000</td>\n",
       "      <td>48.142857</td>\n",
       "      <td>0.415938</td>\n",
       "      <td>0.373610</td>\n",
       "      <td>-0.880872</td>\n",
       "      <td>-0.907844</td>\n",
       "      <td>2.000000</td>\n",
       "      <td>49.000000</td>\n",
       "      <td>0.000000</td>\n",
       "      <td>0.000000</td>\n",
       "      <td>0.003929</td>\n",
       "      <td>0.000000</td>\n",
       "    </tr>\n",
       "    <tr>\n",
       "      <th>25%</th>\n",
       "      <td>201352.000000</td>\n",
       "      <td>0.093302</td>\n",
       "      <td>0.046563</td>\n",
       "      <td>72.000000</td>\n",
       "      <td>584.200000</td>\n",
       "      <td>0.604397</td>\n",
       "      <td>0.652667</td>\n",
       "      <td>-0.137016</td>\n",
       "      <td>-0.295768</td>\n",
       "      <td>143.000000</td>\n",
       "      <td>3568.000000</td>\n",
       "      <td>1.700000</td>\n",
       "      <td>3.000000</td>\n",
       "      <td>0.023849</td>\n",
       "      <td>0.013761</td>\n",
       "    </tr>\n",
       "    <tr>\n",
       "      <th>50%</th>\n",
       "      <td>201434.000000</td>\n",
       "      <td>0.193906</td>\n",
       "      <td>0.091304</td>\n",
       "      <td>123.571429</td>\n",
       "      <td>1192.428571</td>\n",
       "      <td>0.654878</td>\n",
       "      <td>0.717194</td>\n",
       "      <td>0.008612</td>\n",
       "      <td>-0.043640</td>\n",
       "      <td>239.000000</td>\n",
       "      <td>6875.000000</td>\n",
       "      <td>2.200000</td>\n",
       "      <td>6.000000</td>\n",
       "      <td>0.038929</td>\n",
       "      <td>0.022727</td>\n",
       "    </tr>\n",
       "    <tr>\n",
       "      <th>75%</th>\n",
       "      <td>201517.000000</td>\n",
       "      <td>0.319259</td>\n",
       "      <td>0.147249</td>\n",
       "      <td>188.285714</td>\n",
       "      <td>2233.285714</td>\n",
       "      <td>0.703782</td>\n",
       "      <td>0.774477</td>\n",
       "      <td>0.167289</td>\n",
       "      <td>0.233345</td>\n",
       "      <td>402.000000</td>\n",
       "      <td>11762.000000</td>\n",
       "      <td>3.100000</td>\n",
       "      <td>10.000000</td>\n",
       "      <td>0.053359</td>\n",
       "      <td>0.033981</td>\n",
       "    </tr>\n",
       "    <tr>\n",
       "      <th>max</th>\n",
       "      <td>201548.000000</td>\n",
       "      <td>1.000000</td>\n",
       "      <td>1.000000</td>\n",
       "      <td>662.285714</td>\n",
       "      <td>45054.142860</td>\n",
       "      <td>1.503480</td>\n",
       "      <td>1.662516</td>\n",
       "      <td>1.577683</td>\n",
       "      <td>3.313707</td>\n",
       "      <td>3329.000000</td>\n",
       "      <td>64501.000000</td>\n",
       "      <td>7.000000</td>\n",
       "      <td>73.000000</td>\n",
       "      <td>0.112637</td>\n",
       "      <td>0.692308</td>\n",
       "    </tr>\n",
       "  </tbody>\n",
       "</table>\n",
       "</div>"
      ],
      "text/plain": [
       "                Week   new_qty_pc  new_style_pc      prod_br       prod_dp  \\\n",
       "count    3809.000000  3809.000000   3809.000000  3809.000000   3809.000000   \n",
       "mean   201439.431872     0.220464      0.108628   138.220358   1808.573091   \n",
       "std        76.906368     0.163950      0.091194    81.693589   2673.559011   \n",
       "min    201312.000000     0.000000      0.000000     6.000000     48.142857   \n",
       "25%    201352.000000     0.093302      0.046563    72.000000    584.200000   \n",
       "50%    201434.000000     0.193906      0.091304   123.571429   1192.428571   \n",
       "75%    201517.000000     0.319259      0.147249   188.285714   2233.285714   \n",
       "max    201548.000000     1.000000      1.000000   662.285714  45054.142860   \n",
       "\n",
       "           sval_pc  sval_pvw_pc   prod_br_pc   unit_dp_pc       clicks  \\\n",
       "count  3779.000000  3779.000000  3809.000000  3809.000000  3809.000000   \n",
       "mean      0.658636     0.717520     0.017484     0.018319   323.221318   \n",
       "std       0.093184     0.102575     0.266468     0.492868   331.597011   \n",
       "min       0.415938     0.373610    -0.880872    -0.907844     2.000000   \n",
       "25%       0.604397     0.652667    -0.137016    -0.295768   143.000000   \n",
       "50%       0.654878     0.717194     0.008612    -0.043640   239.000000   \n",
       "75%       0.703782     0.774477     0.167289     0.233345   402.000000   \n",
       "max       1.503480     1.662516     1.577683     3.313707  3329.000000   \n",
       "\n",
       "        impressions      avg_pos  transactions          CTR   econv_rate  \n",
       "count   3809.000000  3809.000000   3809.000000  3809.000000  3809.000000  \n",
       "mean    9444.318456     2.427671      7.309005     0.040292     0.026398  \n",
       "std     8821.096582     1.024867      6.911606     0.019158     0.024341  \n",
       "min       49.000000     0.000000      0.000000     0.003929     0.000000  \n",
       "25%     3568.000000     1.700000      3.000000     0.023849     0.013761  \n",
       "50%     6875.000000     2.200000      6.000000     0.038929     0.022727  \n",
       "75%    11762.000000     3.100000     10.000000     0.053359     0.033981  \n",
       "max    64501.000000     7.000000     73.000000     0.112637     0.692308  "
      ]
     },
     "execution_count": 8,
     "metadata": {},
     "output_type": "execute_result"
    }
   ],
   "source": [
    "rev.describe()"
   ]
  },
  {
   "cell_type": "code",
   "execution_count": 9,
   "metadata": {},
   "outputs": [
    {
     "data": {
      "image/png": "[encoded data removed]",
      "text/plain": [
       "<Figure size 432x288 with 1 Axes>"
      ]
     },
     "metadata": {},
     "output_type": "display_data"
    }
   ],
   "source": [
    "rev['econv_rate'].hist()\n",
    "plt.show()"
   ]
  },
  {
   "cell_type": "code",
   "execution_count": 10,
   "metadata": {},
   "outputs": [
    {
     "data": {
      "text/plain": [
       "count    3809.000000\n",
       "mean        0.026398\n",
       "std         0.024341\n",
       "min         0.000000\n",
       "25%         0.013761\n",
       "50%         0.022727\n",
       "75%         0.033981\n",
       "max         0.692308\n",
       "Name: econv_rate, dtype: float64"
      ]
     },
     "execution_count": 10,
     "metadata": {},
     "output_type": "execute_result"
    }
   ],
   "source": [
    "rev['econv_rate'].describe()"
   ]
  },
  {
   "cell_type": "code",
   "execution_count": 11,
   "metadata": {},
   "outputs": [
    {
     "data": {
      "text/plain": [
       "pandas.core.series.Series"
      ]
     },
     "execution_count": 11,
     "metadata": {},
     "output_type": "execute_result"
    }
   ],
   "source": [
    "type(rev['econv_rate'])"
   ]
  },
  {
   "cell_type": "code",
   "execution_count": 12,
   "metadata": {},
   "outputs": [],
   "source": [
    "def conversion_rate(x):\n",
    "    if x > 0.033:\n",
    "        return 'high'\n",
    "    elif x < 0.02:\n",
    "        return 'low'\n",
    "    else:\n",
    "        return 'normal'"
   ]
  },
  {
   "cell_type": "code",
   "execution_count": 13,
   "metadata": {},
   "outputs": [],
   "source": [
    "rev['cr'] = rev['econv_rate'].apply(lambda x:conversion_rate(x))"
   ]
  },
  {
   "cell_type": "code",
   "execution_count": 15,
   "metadata": {},
   "outputs": [
    {
     "data": {
      "text/plain": [
       "low       0.422158\n",
       "normal    0.311630\n",
       "high      0.266212\n",
       "Name: cr, dtype: float64"
      ]
     },
     "execution_count": 15,
     "metadata": {},
     "output_type": "execute_result"
    }
   ],
   "source": [
    "rev['cr'].value_counts(normalize = True)"
   ]
  },
  {
   "cell_type": "markdown",
   "metadata": {},
   "source": [
    "**1. Impressions vs. CTR vs. Level of conversion rate**"
   ]
  },
  {
   "cell_type": "code",
   "execution_count": 17,
   "metadata": {},
   "outputs": [
    {
     "data": {
      "text/plain": [
       "<Figure size 720x576 with 0 Axes>"
      ]
     },
     "metadata": {},
     "output_type": "display_data"
    },
    {
     "data": {
      "image/png": "[encoded data removed]",
      "text/plain": [
       "<Figure size 426.875x360 with 1 Axes>"
      ]
     },
     "metadata": {},
     "output_type": "display_data"
    }
   ],
   "source": [
    "plt.figure(figsize = (10,8))\n",
    "sns.lmplot(data=rev, x = 'impressions', y='CTR', hue='cr', fit_reg=False)\n",
    "plt.title('Impressions vs. CTR vs. Level of Conversion Rate')\n",
    "plt.show()\n"
   ]
  },
  {
   "cell_type": "markdown",
   "metadata": {},
   "source": [
    "* No positive linear relationship with impressions and CTR.\n",
    "- High impression won't result in high CTR\n",
    "* Most of high conversion rate points appear between 0 to 20000 impressions range.\n"
   ]
  },
  {
   "cell_type": "markdown",
   "metadata": {},
   "source": [
    "**2. Conversion rate vs. Impressions**"
   ]
  },
  {
   "cell_type": "code",
   "execution_count": 19,
   "metadata": {},
   "outputs": [],
   "source": [
    "mean_impression = rev.groupby('cr').agg({'impressions':'mean'}).reset_index()"
   ]
  },
  {
   "cell_type": "code",
   "execution_count": 20,
   "metadata": {},
   "outputs": [
    {
     "data": {
      "image/png": "[encoded data removed]",
      "text/plain": [
       "<Figure size 720x360 with 1 Axes>"
      ]
     },
     "metadata": {},
     "output_type": "display_data"
    }
   ],
   "source": [
    "plt.figure(figsize = (10,5))\n",
    "sns.barplot(data=mean_impression, x = 'cr', y='impressions', hue='cr')\n",
    "plt.title('Level of Conversion rate vs. Impressions')\n",
    "plt.show()\n"
   ]
  },
  {
   "cell_type": "markdown",
   "metadata": {},
   "source": [
    "* high immpression wont' resuilt in high conversion rate\n",
    "- low converation rate level has the highest average impressions\n"
   ]
  },
  {
   "cell_type": "markdown",
   "metadata": {},
   "source": [
    "**3. Conversion rate vs. rank position**\n"
   ]
  },
  {
   "cell_type": "code",
   "execution_count": 21,
   "metadata": {},
   "outputs": [],
   "source": [
    "mean_pos = rev.groupby('cr').agg({'avg_pos':'mean'}).reset_index()"
   ]
  },
  {
   "cell_type": "code",
   "execution_count": 22,
   "metadata": {},
   "outputs": [
    {
     "data": {
      "image/png": "[encoded data removed]",
      "text/plain": [
       "<Figure size 720x360 with 1 Axes>"
      ]
     },
     "metadata": {},
     "output_type": "display_data"
    }
   ],
   "source": [
    "plt.figure(figsize = (10,5))\n",
    "sns.barplot(data=mean_pos, x = 'cr', y='avg_pos', hue='cr')\n",
    "plt.title('Level of Conversion rate vs. Rank Position')\n",
    "plt.show()"
   ]
  },
  {
   "cell_type": "markdown",
   "metadata": {},
   "source": [
    "* low converation rate level has the highest average rank position\n"
   ]
  },
  {
   "cell_type": "markdown",
   "metadata": {},
   "source": [
    "**4. Conversion rate vs. unit_dp_pc**"
   ]
  },
  {
   "cell_type": "code",
   "execution_count": 23,
   "metadata": {},
   "outputs": [],
   "source": [
    "mean_unit_dp_pc = rev.groupby('cr').agg({'unit_dp_pc':'mean'}).reset_index()"
   ]
  },
  {
   "cell_type": "code",
   "execution_count": 24,
   "metadata": {},
   "outputs": [
    {
     "data": {
      "image/png": "[encoded data removed]",
      "text/plain": [
       "<Figure size 720x360 with 1 Axes>"
      ]
     },
     "metadata": {},
     "output_type": "display_data"
    }
   ],
   "source": [
    "plt.figure(figsize = (10,5))\n",
    "sns.barplot(data=mean_unit_dp_pc, x = 'cr', y='unit_dp_pc', hue='cr')\n",
    "plt.title('Level of Conversion rate vs. Unit Depth Percentage')\n",
    "plt.show()\n"
   ]
  },
  {
   "cell_type": "markdown",
   "metadata": {},
   "source": [
    "* Low converation rate has negative average unit depth\n",
    "- High converation rate has highest average unit depth %\n",
    "* Unit depth% will affect our converation rate"
   ]
  },
  {
   "cell_type": "markdown",
   "metadata": {},
   "source": [
    "**5. Conversion rate vs. Year**\n"
   ]
  },
  {
   "cell_type": "code",
   "execution_count": 25,
   "metadata": {},
   "outputs": [],
   "source": [
    "rev['year'] = rev['Week'].apply(lambda x: str(x)[:4])"
   ]
  },
  {
   "cell_type": "code",
   "execution_count": 26,
   "metadata": {},
   "outputs": [
    {
     "data": {
      "text/plain": [
       "2015    1438\n",
       "2014    1398\n",
       "2013     973\n",
       "Name: year, dtype: int64"
      ]
     },
     "execution_count": 26,
     "metadata": {},
     "output_type": "execute_result"
    }
   ],
   "source": [
    "rev['year'].value_counts()"
   ]
  },
  {
   "cell_type": "code",
   "execution_count": 27,
   "metadata": {},
   "outputs": [],
   "source": [
    "mean_year = rev.groupby('year').agg({'econv_rate':'mean'}).reset_index()\n"
   ]
  },
  {
   "cell_type": "code",
   "execution_count": 28,
   "metadata": {},
   "outputs": [
    {
     "data": {
      "image/png": "[encoded data removed]",
      "text/plain": [
       "<Figure size 720x360 with 1 Axes>"
      ]
     },
     "metadata": {},
     "output_type": "display_data"
    }
   ],
   "source": [
    "plt.figure(figsize = (10,5))\n",
    "sns.barplot(data=mean_year, x = 'year', y='econv_rate', hue='year')\n",
    "plt.title('Conversion rate vs. Year')\n",
    "plt.show()"
   ]
  },
  {
   "cell_type": "markdown",
   "metadata": {},
   "source": [
    "* Conversion rate increased over years\n"
   ]
  },
  {
   "cell_type": "markdown",
   "metadata": {},
   "source": [
    "**6. Conversion rate vs. prod_br**\n"
   ]
  },
  {
   "cell_type": "code",
   "execution_count": 29,
   "metadata": {},
   "outputs": [],
   "source": [
    "mean_prod_br = rev.groupby('cr').agg({'prod_br':'mean'}).reset_index()"
   ]
  },
  {
   "cell_type": "code",
   "execution_count": 30,
   "metadata": {},
   "outputs": [
    {
     "data": {
      "image/png": "[encoded data removed]",
      "text/plain": [
       "<Figure size 720x360 with 1 Axes>"
      ]
     },
     "metadata": {},
     "output_type": "display_data"
    }
   ],
   "source": [
    "plt.figure(figsize = (10,5))\n",
    "sns.barplot(data=mean_prod_br, x = 'cr', y='prod_br', hue='cr')\n",
    "plt.title('Level of Conversion rate vs. Product Breath')\n",
    "plt.show()"
   ]
  },
  {
   "cell_type": "markdown",
   "metadata": {},
   "source": [
    "* Product breadth will affect our converstion rate\n"
   ]
  },
  {
   "cell_type": "markdown",
   "metadata": {},
   "source": [
    "**Correlation**"
   ]
  },
  {
   "cell_type": "code",
   "execution_count": 32,
   "metadata": {},
   "outputs": [
    {
     "data": {
      "text/html": [
       "<div>\n",
       "<style scoped>\n",
       "    .dataframe tbody tr th:only-of-type {\n",
       "        vertical-align: middle;\n",
       "    }\n",
       "\n",
       "    .dataframe tbody tr th {\n",
       "        vertical-align: top;\n",
       "    }\n",
       "\n",
       "    .dataframe thead th {\n",
       "        text-align: right;\n",
       "    }\n",
       "</style>\n",
       "<table border=\"1\" class=\"dataframe\">\n",
       "  <thead>\n",
       "    <tr style=\"text-align: right;\">\n",
       "      <th></th>\n",
       "      <th>pcode</th>\n",
       "      <th>Week</th>\n",
       "      <th>new_qty_pc</th>\n",
       "      <th>new_style_pc</th>\n",
       "      <th>prod_br</th>\n",
       "      <th>prod_dp</th>\n",
       "      <th>sval_pc</th>\n",
       "      <th>sval_pvw_pc</th>\n",
       "      <th>prod_br_pc</th>\n",
       "      <th>unit_dp_pc</th>\n",
       "      <th>clicks</th>\n",
       "      <th>impressions</th>\n",
       "      <th>avg_pos</th>\n",
       "      <th>transactions</th>\n",
       "      <th>CTR</th>\n",
       "      <th>econv_rate</th>\n",
       "      <th>cr</th>\n",
       "      <th>year</th>\n",
       "    </tr>\n",
       "  </thead>\n",
       "  <tbody>\n",
       "    <tr>\n",
       "      <th>0</th>\n",
       "      <td>ACAC</td>\n",
       "      <td>201423</td>\n",
       "      <td>0.280079</td>\n",
       "      <td>0.105263</td>\n",
       "      <td>70.571429</td>\n",
       "      <td>1300.142857</td>\n",
       "      <td>0.778750</td>\n",
       "      <td>0.838993</td>\n",
       "      <td>0.249546</td>\n",
       "      <td>1.030857</td>\n",
       "      <td>978</td>\n",
       "      <td>10170</td>\n",
       "      <td>1.3</td>\n",
       "      <td>1</td>\n",
       "      <td>0.096165</td>\n",
       "      <td>0.001022</td>\n",
       "      <td>low</td>\n",
       "      <td>2014</td>\n",
       "    </tr>\n",
       "    <tr>\n",
       "      <th>1</th>\n",
       "      <td>ACAC</td>\n",
       "      <td>201424</td>\n",
       "      <td>0.066161</td>\n",
       "      <td>0.021912</td>\n",
       "      <td>71.714286</td>\n",
       "      <td>1187.571429</td>\n",
       "      <td>0.750463</td>\n",
       "      <td>0.751063</td>\n",
       "      <td>0.269781</td>\n",
       "      <td>0.855018</td>\n",
       "      <td>1209</td>\n",
       "      <td>13994</td>\n",
       "      <td>1.8</td>\n",
       "      <td>9</td>\n",
       "      <td>0.086394</td>\n",
       "      <td>0.007444</td>\n",
       "      <td>low</td>\n",
       "      <td>2014</td>\n",
       "    </tr>\n",
       "    <tr>\n",
       "      <th>2</th>\n",
       "      <td>ACAC</td>\n",
       "      <td>201425</td>\n",
       "      <td>0.000000</td>\n",
       "      <td>0.000000</td>\n",
       "      <td>70.285714</td>\n",
       "      <td>1119.285714</td>\n",
       "      <td>0.775713</td>\n",
       "      <td>0.800136</td>\n",
       "      <td>0.244487</td>\n",
       "      <td>0.748354</td>\n",
       "      <td>1315</td>\n",
       "      <td>15764</td>\n",
       "      <td>1.7</td>\n",
       "      <td>8</td>\n",
       "      <td>0.083418</td>\n",
       "      <td>0.006084</td>\n",
       "      <td>low</td>\n",
       "      <td>2014</td>\n",
       "    </tr>\n",
       "    <tr>\n",
       "      <th>3</th>\n",
       "      <td>ACAC</td>\n",
       "      <td>201426</td>\n",
       "      <td>0.328882</td>\n",
       "      <td>0.197487</td>\n",
       "      <td>79.571429</td>\n",
       "      <td>1572.428571</td>\n",
       "      <td>0.791148</td>\n",
       "      <td>0.805672</td>\n",
       "      <td>0.408901</td>\n",
       "      <td>1.456175</td>\n",
       "      <td>1394</td>\n",
       "      <td>14967</td>\n",
       "      <td>1.7</td>\n",
       "      <td>14</td>\n",
       "      <td>0.093138</td>\n",
       "      <td>0.010043</td>\n",
       "      <td>low</td>\n",
       "      <td>2014</td>\n",
       "    </tr>\n",
       "    <tr>\n",
       "      <th>4</th>\n",
       "      <td>ACAC</td>\n",
       "      <td>201427</td>\n",
       "      <td>0.413114</td>\n",
       "      <td>0.273292</td>\n",
       "      <td>80.500000</td>\n",
       "      <td>1736.000000</td>\n",
       "      <td>0.785493</td>\n",
       "      <td>0.854480</td>\n",
       "      <td>0.425342</td>\n",
       "      <td>1.711678</td>\n",
       "      <td>1127</td>\n",
       "      <td>12539</td>\n",
       "      <td>1.7</td>\n",
       "      <td>10</td>\n",
       "      <td>0.089880</td>\n",
       "      <td>0.008873</td>\n",
       "      <td>low</td>\n",
       "      <td>2014</td>\n",
       "    </tr>\n",
       "  </tbody>\n",
       "</table>\n",
       "</div>"
      ],
      "text/plain": [
       "  pcode    Week  new_qty_pc  new_style_pc    prod_br      prod_dp   sval_pc  \\\n",
       "0  ACAC  201423    0.280079      0.105263  70.571429  1300.142857  0.778750   \n",
       "1  ACAC  201424    0.066161      0.021912  71.714286  1187.571429  0.750463   \n",
       "2  ACAC  201425    0.000000      0.000000  70.285714  1119.285714  0.775713   \n",
       "3  ACAC  201426    0.328882      0.197487  79.571429  1572.428571  0.791148   \n",
       "4  ACAC  201427    0.413114      0.273292  80.500000  1736.000000  0.785493   \n",
       "\n",
       "   sval_pvw_pc  prod_br_pc  unit_dp_pc  clicks  impressions  avg_pos  \\\n",
       "0     0.838993    0.249546    1.030857     978        10170      1.3   \n",
       "1     0.751063    0.269781    0.855018    1209        13994      1.8   \n",
       "2     0.800136    0.244487    0.748354    1315        15764      1.7   \n",
       "3     0.805672    0.408901    1.456175    1394        14967      1.7   \n",
       "4     0.854480    0.425342    1.711678    1127        12539      1.7   \n",
       "\n",
       "   transactions       CTR  econv_rate   cr  year  \n",
       "0             1  0.096165    0.001022  low  2014  \n",
       "1             9  0.086394    0.007444  low  2014  \n",
       "2             8  0.083418    0.006084  low  2014  \n",
       "3            14  0.093138    0.010043  low  2014  \n",
       "4            10  0.089880    0.008873  low  2014  "
      ]
     },
     "execution_count": 32,
     "metadata": {},
     "output_type": "execute_result"
    }
   ],
   "source": [
    " rev.head()\n"
   ]
  },
  {
   "cell_type": "code",
   "execution_count": 33,
   "metadata": {},
   "outputs": [],
   "source": [
    " col = ['pcode', 'cr']\n"
   ]
  },
  {
   "cell_type": "code",
   "execution_count": 34,
   "metadata": {},
   "outputs": [],
   "source": [
    " rev1 = rev.drop(col,axis=1)\n"
   ]
  },
  {
   "cell_type": "code",
   "execution_count": 35,
   "metadata": {},
   "outputs": [
    {
     "data": {
      "image/png": "[encoded data removed]",
      "text/plain": [
       "<Figure size 720x108 with 2 Axes>"
      ]
     },
     "metadata": {},
     "output_type": "display_data"
    }
   ],
   "source": [
    "fig, ax = plt.subplots(figsize=(10, 1.5))\n",
    "corr_plot = sns.heatmap(rev1.corr()[-1:],cmap='Blues',annot=True)\n",
    "ax.tick_params(axis=\"x\", labelsize=15, rotation=90)\n",
    "ax.tick_params(axis=\"y\", labelsize=15, rotation=0)\n",
    "plt.title(\"Correlation plot of Conversion Rate vs other Attributes\", fontsize=\n",
    "15, y=1.08)\n",
    "plt.show()\n"
   ]
  },
  {
   "cell_type": "code",
   "execution_count": 36,
   "metadata": {},
   "outputs": [
    {
     "name": "stdout",
     "output_type": "stream",
     "text": [
      "<class 'pandas.core.frame.DataFrame'>\n",
      "RangeIndex: 3809 entries, 0 to 3808\n",
      "Data columns (total 18 columns):\n",
      " #   Column        Non-Null Count  Dtype  \n",
      "---  ------        --------------  -----  \n",
      " 0   pcode         3809 non-null   object \n",
      " 1   Week          3809 non-null   int64  \n",
      " 2   new_qty_pc    3809 non-null   float64\n",
      " 3   new_style_pc  3809 non-null   float64\n",
      " 4   prod_br       3809 non-null   float64\n",
      " 5   prod_dp       3809 non-null   float64\n",
      " 6   sval_pc       3779 non-null   float64\n",
      " 7   sval_pvw_pc   3779 non-null   float64\n",
      " 8   prod_br_pc    3809 non-null   float64\n",
      " 9   unit_dp_pc    3809 non-null   float64\n",
      " 10  clicks        3809 non-null   int64  \n",
      " 11  impressions   3809 non-null   int64  \n",
      " 12  avg_pos       3809 non-null   float64\n",
      " 13  transactions  3809 non-null   int64  \n",
      " 14  CTR           3809 non-null   float64\n",
      " 15  econv_rate    3809 non-null   float64\n",
      " 16  cr            3809 non-null   object \n",
      " 17  year          3809 non-null   object \n",
      "dtypes: float64(11), int64(4), object(3)\n",
      "memory usage: 535.8+ KB\n"
     ]
    }
   ],
   "source": [
    "rev.info()"
   ]
  },
  {
   "cell_type": "code",
   "execution_count": 37,
   "metadata": {},
   "outputs": [
    {
     "data": {
      "text/plain": [
       "pcode            0\n",
       "Week             0\n",
       "new_qty_pc       0\n",
       "new_style_pc     0\n",
       "prod_br          0\n",
       "prod_dp          0\n",
       "sval_pc         30\n",
       "sval_pvw_pc     30\n",
       "prod_br_pc       0\n",
       "unit_dp_pc       0\n",
       "clicks           0\n",
       "impressions      0\n",
       "avg_pos          0\n",
       "transactions     0\n",
       "CTR              0\n",
       "econv_rate       0\n",
       "cr               0\n",
       "year             0\n",
       "dtype: int64"
      ]
     },
     "execution_count": 37,
     "metadata": {},
     "output_type": "execute_result"
    }
   ],
   "source": [
    "rev.isnull().sum()"
   ]
  },
  {
   "cell_type": "code",
   "execution_count": 38,
   "metadata": {},
   "outputs": [],
   "source": [
    "rev = rev.dropna()"
   ]
  },
  {
   "cell_type": "markdown",
   "metadata": {},
   "source": [
    "**Linear Regression**"
   ]
  },
  {
   "cell_type": "code",
   "execution_count": 39,
   "metadata": {},
   "outputs": [],
   "source": [
    "col1 = ['pcode', 'cr','Week']"
   ]
  },
  {
   "cell_type": "code",
   "execution_count": 40,
   "metadata": {},
   "outputs": [],
   "source": [
    "rev2 = rev.drop(col,axis=1)"
   ]
  },
  {
   "cell_type": "code",
   "execution_count": 47,
   "metadata": {},
   "outputs": [],
   "source": [
    "target = rev2['econv_rate']\n",
    "predictors = rev2.drop('econv_rate', axis=1)"
   ]
  },
  {
   "cell_type": "code",
   "execution_count": 48,
   "metadata": {},
   "outputs": [],
   "source": [
    "import sklearn\n",
    "from sklearn import linear_model\n",
    "from sklearn.model_selection import train_test_split\n",
    "from sklearn.metrics import r2_score,mean_squared_error"
   ]
  },
  {
   "cell_type": "markdown",
   "metadata": {},
   "source": [
    "**Conclusion:**"
   ]
  },
  {
   "cell_type": "markdown",
   "metadata": {},
   "source": [
    "How to improve conversion rate:\n",
    "  * increase product breath  \n",
    "  - increase unit depth"
   ]
  },
  {
   "cell_type": "code",
   "execution_count": null,
   "metadata": {},
   "outputs": [],
   "source": []
  }
 ],
 "metadata": {
  "kernelspec": {
   "display_name": "Python 3",
   "language": "python",
   "name": "python3"
  }
 },
 "nbformat": 4,
 "nbformat_minor": 4
}
